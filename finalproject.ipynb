{
  "nbformat": 4,
  "nbformat_minor": 0,
  "metadata": {
    "colab": {
      "name": "finalproject",
      "provenance": [],
      "collapsed_sections": []
    },
    "kernelspec": {
      "name": "python3",
      "display_name": "Python 3"
    }
  },
  "cells": [
    {
      "cell_type": "code",
      "metadata": {
        "id": "q_UOBKIf4eN8"
      },
      "source": [
        "import pandas as pd\n",
        "import numpy as np\n",
        "import matplotlib.pyplot as plt\n",
        "import seaborn as sns\n",
        "from sklearn.linear_model import LogisticRegression\n",
        "from sklearn.tree import DecisionTreeClassifier\n",
        "from sklearn.ensemble import RandomForestClassifier\n",
        "import tensorflow as tf\n",
        "from sklearn.preprocessing import StandardScaler, LabelEncoder\n",
        "from sklearn.model_selection import train_test_split\n",
        "from sklearn.metrics import accuracy_score, precision_score, recall_score, f1_score, roc_auc_score, confusion_matrix, ConfusionMatrixDisplay"
      ],
      "execution_count": null,
      "outputs": []
    },
    {
      "cell_type": "code",
      "metadata": {
        "id": "kqaFbjKYd2ep"
      },
      "source": [
        "datadir = '/content/drive/MyDrive/Knowledge Discovery/final-project/'"
      ],
      "execution_count": null,
      "outputs": []
    },
    {
      "cell_type": "markdown",
      "metadata": {
        "id": "6zv4BwO4ncsJ"
      },
      "source": [
        "# Load the dataset"
      ]
    },
    {
      "cell_type": "markdown",
      "metadata": {
        "id": "TMeRvymL6c9L"
      },
      "source": [
        "https://www.kaggle.com/anmolkumar/health-insurance-cross-sell-prediction"
      ]
    },
    {
      "cell_type": "code",
      "metadata": {
        "id": "wC2sYPXUd8EB"
      },
      "source": [
        "df = pd.read_csv(datadir + 'train.csv')"
      ],
      "execution_count": null,
      "outputs": []
    },
    {
      "cell_type": "code",
      "metadata": {
        "id": "8Mec7NKVeZb7"
      },
      "source": [
        "df = df.set_index(df['id'])\n",
        "df = df.drop('id', axis=1)"
      ],
      "execution_count": null,
      "outputs": []
    },
    {
      "cell_type": "code",
      "metadata": {
        "colab": {
          "base_uri": "https://localhost:8080/",
          "height": 455
        },
        "id": "svlkN6CJdbps",
        "outputId": "a6f0a6f2-1060-4bed-87c1-0acde369ece0"
      },
      "source": [
        "df"
      ],
      "execution_count": null,
      "outputs": [
        {
          "output_type": "execute_result",
          "data": {
            "text/html": [
              "<div>\n",
              "<style scoped>\n",
              "    .dataframe tbody tr th:only-of-type {\n",
              "        vertical-align: middle;\n",
              "    }\n",
              "\n",
              "    .dataframe tbody tr th {\n",
              "        vertical-align: top;\n",
              "    }\n",
              "\n",
              "    .dataframe thead th {\n",
              "        text-align: right;\n",
              "    }\n",
              "</style>\n",
              "<table border=\"1\" class=\"dataframe\">\n",
              "  <thead>\n",
              "    <tr style=\"text-align: right;\">\n",
              "      <th></th>\n",
              "      <th>Gender</th>\n",
              "      <th>Age</th>\n",
              "      <th>Driving_License</th>\n",
              "      <th>Region_Code</th>\n",
              "      <th>Previously_Insured</th>\n",
              "      <th>Vehicle_Age</th>\n",
              "      <th>Vehicle_Damage</th>\n",
              "      <th>Annual_Premium</th>\n",
              "      <th>Policy_Sales_Channel</th>\n",
              "      <th>Vintage</th>\n",
              "      <th>Response</th>\n",
              "    </tr>\n",
              "    <tr>\n",
              "      <th>id</th>\n",
              "      <th></th>\n",
              "      <th></th>\n",
              "      <th></th>\n",
              "      <th></th>\n",
              "      <th></th>\n",
              "      <th></th>\n",
              "      <th></th>\n",
              "      <th></th>\n",
              "      <th></th>\n",
              "      <th></th>\n",
              "      <th></th>\n",
              "    </tr>\n",
              "  </thead>\n",
              "  <tbody>\n",
              "    <tr>\n",
              "      <th>1</th>\n",
              "      <td>Male</td>\n",
              "      <td>44</td>\n",
              "      <td>1</td>\n",
              "      <td>28.0</td>\n",
              "      <td>0</td>\n",
              "      <td>&gt; 2 Years</td>\n",
              "      <td>Yes</td>\n",
              "      <td>40454.0</td>\n",
              "      <td>26.0</td>\n",
              "      <td>217</td>\n",
              "      <td>1</td>\n",
              "    </tr>\n",
              "    <tr>\n",
              "      <th>2</th>\n",
              "      <td>Male</td>\n",
              "      <td>76</td>\n",
              "      <td>1</td>\n",
              "      <td>3.0</td>\n",
              "      <td>0</td>\n",
              "      <td>1-2 Year</td>\n",
              "      <td>No</td>\n",
              "      <td>33536.0</td>\n",
              "      <td>26.0</td>\n",
              "      <td>183</td>\n",
              "      <td>0</td>\n",
              "    </tr>\n",
              "    <tr>\n",
              "      <th>3</th>\n",
              "      <td>Male</td>\n",
              "      <td>47</td>\n",
              "      <td>1</td>\n",
              "      <td>28.0</td>\n",
              "      <td>0</td>\n",
              "      <td>&gt; 2 Years</td>\n",
              "      <td>Yes</td>\n",
              "      <td>38294.0</td>\n",
              "      <td>26.0</td>\n",
              "      <td>27</td>\n",
              "      <td>1</td>\n",
              "    </tr>\n",
              "    <tr>\n",
              "      <th>4</th>\n",
              "      <td>Male</td>\n",
              "      <td>21</td>\n",
              "      <td>1</td>\n",
              "      <td>11.0</td>\n",
              "      <td>1</td>\n",
              "      <td>&lt; 1 Year</td>\n",
              "      <td>No</td>\n",
              "      <td>28619.0</td>\n",
              "      <td>152.0</td>\n",
              "      <td>203</td>\n",
              "      <td>0</td>\n",
              "    </tr>\n",
              "    <tr>\n",
              "      <th>5</th>\n",
              "      <td>Female</td>\n",
              "      <td>29</td>\n",
              "      <td>1</td>\n",
              "      <td>41.0</td>\n",
              "      <td>1</td>\n",
              "      <td>&lt; 1 Year</td>\n",
              "      <td>No</td>\n",
              "      <td>27496.0</td>\n",
              "      <td>152.0</td>\n",
              "      <td>39</td>\n",
              "      <td>0</td>\n",
              "    </tr>\n",
              "    <tr>\n",
              "      <th>...</th>\n",
              "      <td>...</td>\n",
              "      <td>...</td>\n",
              "      <td>...</td>\n",
              "      <td>...</td>\n",
              "      <td>...</td>\n",
              "      <td>...</td>\n",
              "      <td>...</td>\n",
              "      <td>...</td>\n",
              "      <td>...</td>\n",
              "      <td>...</td>\n",
              "      <td>...</td>\n",
              "    </tr>\n",
              "    <tr>\n",
              "      <th>381105</th>\n",
              "      <td>Male</td>\n",
              "      <td>74</td>\n",
              "      <td>1</td>\n",
              "      <td>26.0</td>\n",
              "      <td>1</td>\n",
              "      <td>1-2 Year</td>\n",
              "      <td>No</td>\n",
              "      <td>30170.0</td>\n",
              "      <td>26.0</td>\n",
              "      <td>88</td>\n",
              "      <td>0</td>\n",
              "    </tr>\n",
              "    <tr>\n",
              "      <th>381106</th>\n",
              "      <td>Male</td>\n",
              "      <td>30</td>\n",
              "      <td>1</td>\n",
              "      <td>37.0</td>\n",
              "      <td>1</td>\n",
              "      <td>&lt; 1 Year</td>\n",
              "      <td>No</td>\n",
              "      <td>40016.0</td>\n",
              "      <td>152.0</td>\n",
              "      <td>131</td>\n",
              "      <td>0</td>\n",
              "    </tr>\n",
              "    <tr>\n",
              "      <th>381107</th>\n",
              "      <td>Male</td>\n",
              "      <td>21</td>\n",
              "      <td>1</td>\n",
              "      <td>30.0</td>\n",
              "      <td>1</td>\n",
              "      <td>&lt; 1 Year</td>\n",
              "      <td>No</td>\n",
              "      <td>35118.0</td>\n",
              "      <td>160.0</td>\n",
              "      <td>161</td>\n",
              "      <td>0</td>\n",
              "    </tr>\n",
              "    <tr>\n",
              "      <th>381108</th>\n",
              "      <td>Female</td>\n",
              "      <td>68</td>\n",
              "      <td>1</td>\n",
              "      <td>14.0</td>\n",
              "      <td>0</td>\n",
              "      <td>&gt; 2 Years</td>\n",
              "      <td>Yes</td>\n",
              "      <td>44617.0</td>\n",
              "      <td>124.0</td>\n",
              "      <td>74</td>\n",
              "      <td>0</td>\n",
              "    </tr>\n",
              "    <tr>\n",
              "      <th>381109</th>\n",
              "      <td>Male</td>\n",
              "      <td>46</td>\n",
              "      <td>1</td>\n",
              "      <td>29.0</td>\n",
              "      <td>0</td>\n",
              "      <td>1-2 Year</td>\n",
              "      <td>No</td>\n",
              "      <td>41777.0</td>\n",
              "      <td>26.0</td>\n",
              "      <td>237</td>\n",
              "      <td>0</td>\n",
              "    </tr>\n",
              "  </tbody>\n",
              "</table>\n",
              "<p>381109 rows × 11 columns</p>\n",
              "</div>"
            ],
            "text/plain": [
              "        Gender  Age  Driving_License  ...  Policy_Sales_Channel  Vintage Response\n",
              "id                                    ...                                        \n",
              "1         Male   44                1  ...                  26.0      217        1\n",
              "2         Male   76                1  ...                  26.0      183        0\n",
              "3         Male   47                1  ...                  26.0       27        1\n",
              "4         Male   21                1  ...                 152.0      203        0\n",
              "5       Female   29                1  ...                 152.0       39        0\n",
              "...        ...  ...              ...  ...                   ...      ...      ...\n",
              "381105    Male   74                1  ...                  26.0       88        0\n",
              "381106    Male   30                1  ...                 152.0      131        0\n",
              "381107    Male   21                1  ...                 160.0      161        0\n",
              "381108  Female   68                1  ...                 124.0       74        0\n",
              "381109    Male   46                1  ...                  26.0      237        0\n",
              "\n",
              "[381109 rows x 11 columns]"
            ]
          },
          "metadata": {
            "tags": []
          },
          "execution_count": 207
        }
      ]
    },
    {
      "cell_type": "markdown",
      "metadata": {
        "id": "-w5hJkQL6vbQ"
      },
      "source": [
        "Check for missing values in the data"
      ]
    },
    {
      "cell_type": "code",
      "metadata": {
        "colab": {
          "base_uri": "https://localhost:8080/"
        },
        "id": "mz0RNDn96y7z",
        "outputId": "570e14ff-a73d-48cc-904f-ae1257161b0e"
      },
      "source": [
        "df.isna().sum()"
      ],
      "execution_count": null,
      "outputs": [
        {
          "output_type": "execute_result",
          "data": {
            "text/plain": [
              "Gender                  0\n",
              "Age                     0\n",
              "Driving_License         0\n",
              "Region_Code             0\n",
              "Previously_Insured      0\n",
              "Vehicle_Age             0\n",
              "Vehicle_Damage          0\n",
              "Annual_Premium          0\n",
              "Policy_Sales_Channel    0\n",
              "Vintage                 0\n",
              "Response                0\n",
              "dtype: int64"
            ]
          },
          "metadata": {
            "tags": []
          },
          "execution_count": 208
        }
      ]
    },
    {
      "cell_type": "markdown",
      "metadata": {
        "id": "p5bB-JOD64-S"
      },
      "source": [
        "The dataset has no missing values for any of the attributes. So, data imputation is required."
      ]
    },
    {
      "cell_type": "markdown",
      "metadata": {
        "id": "N8cQIwv6niyx"
      },
      "source": [
        "# Analyzing Data Correlation"
      ]
    },
    {
      "cell_type": "code",
      "metadata": {
        "colab": {
          "base_uri": "https://localhost:8080/",
          "height": 501
        },
        "id": "zbr4QkcAqKTk",
        "outputId": "42a01798-a37e-4e3c-ee1a-a79a4a7aaa6d"
      },
      "source": [
        "plt.figure(figsize=(8, 8))\n",
        "sns.barplot(x = ['Male Not Interested', 'Male Interested', 'Female Not Interested', 'Female Interested'],\n",
        "            y = [len(df[(df['Gender'] == 'Male') & (df['Response'] == 0)]), \n",
        "                 len(df[(df['Gender'] == 'Male') & (df['Response'] == 1)]),\n",
        "                 len(df[(df['Gender'] == 'Female') & (df['Response'] == 0)]),\n",
        "                 len(df[(df['Gender'] == 'Female') & (df['Response'] == 1)])])\n",
        "plt.ylabel('Response Count', size=15)\n",
        "plt.title('Gender Interest in Insurance', size=15)\n",
        "plt.show()"
      ],
      "execution_count": null,
      "outputs": [
        {
          "output_type": "display_data",
          "data": {
            "image/png": "[encoded data removed]",
            "text/plain": [
              "<Figure size 576x576 with 1 Axes>"
            ]
          },
          "metadata": {
            "tags": [],
            "needs_background": "light"
          }
        }
      ]
    },
    {
      "cell_type": "code",
      "metadata": {
        "colab": {
          "base_uri": "https://localhost:8080/",
          "height": 461
        },
        "id": "ySfdpqIDxhBh",
        "outputId": "cab3bcc4-e78a-402f-ff02-fd21b89d344a"
      },
      "source": [
        "plt.figure(figsize=(8, 7))\n",
        "sns.countplot(x='Gender', data=df, hue='Response')\n",
        "plt.xlabel('Gender', size=12)\n",
        "plt.ylabel('Count', size=12)\n",
        "plt.title('Number of Customers Interested in Insurance by Gender', size=12)\n",
        "plt.show()"
      ],
      "execution_count": null,
      "outputs": [
        {
          "output_type": "display_data",
          "data": {
            "image/png": "[encoded data removed]",
            "text/plain": [
              "<Figure size 576x504 with 1 Axes>"
            ]
          },
          "metadata": {
            "tags": [],
            "needs_background": "light"
          }
        }
      ]
    },
    {
      "cell_type": "markdown",
      "metadata": {
        "id": "I-ZfNZ7FuVrP"
      },
      "source": [
        "We can see that members of both gender are interested in getting insurance again."
      ]
    },
    {
      "cell_type": "code",
      "metadata": {
        "colab": {
          "base_uri": "https://localhost:8080/",
          "height": 461
        },
        "id": "DaJ3rqB5qOCy",
        "outputId": "55d36b36-accc-4b63-f69a-c0d3d2e4c6a8"
      },
      "source": [
        "plt.figure(figsize=(18, 7))\n",
        "sns.countplot(x='Age', data=df, hue='Response')\n",
        "plt.xlabel('Age', size=12)\n",
        "plt.ylabel('Count', size=12)\n",
        "plt.title('Number of Customers Interested in Insurance by Age')\n",
        "plt.show()"
      ],
      "execution_count": null,
      "outputs": [
        {
          "output_type": "display_data",
          "data": {
            "image/png": "[encoded data removed]",
            "text/plain": [
              "<Figure size 1296x504 with 1 Axes>"
            ]
          },
          "metadata": {
            "tags": [],
            "needs_background": "light"
          }
        }
      ]
    },
    {
      "cell_type": "markdown",
      "metadata": {
        "id": "85UUq6_kzICe"
      },
      "source": [
        "The graph shows that a very small portion of customers are interested in getting insurance by age. Age 24 has the most amount of customers who will not be getting their insurance again witht the company. Age 44 and 45 show the highest number of customers who are interested in renewing their insurance."
      ]
    },
    {
      "cell_type": "code",
      "metadata": {
        "colab": {
          "base_uri": "https://localhost:8080/",
          "height": 516
        },
        "id": "r2erP5WcraaK",
        "outputId": "f701a45f-a532-462e-d7a8-823c0df25874"
      },
      "source": [
        "plt.figure(figsize=(10, 8))\n",
        "sns.countplot(x='Driving_License', data=df, hue='Response')\n",
        "plt.xlabel('Driving License', size=12)\n",
        "plt.ylabel('Count', size=12)\n",
        "plt.title('Number of Customers Interested in Insurance by Driving License')\n",
        "plt.show()"
      ],
      "execution_count": null,
      "outputs": [
        {
          "output_type": "display_data",
          "data": {
            "image/png": "[encoded data removed]",
            "text/plain": [
              "<Figure size 720x576 with 1 Axes>"
            ]
          },
          "metadata": {
            "tags": [],
            "needs_background": "light"
          }
        }
      ]
    },
    {
      "cell_type": "markdown",
      "metadata": {
        "id": "ZnhXjT-fz14Z"
      },
      "source": [
        "Overall, it can be seen that customers who have driving license are interested in getting insurance. But majority of these customers with license are not interested in renewing their insurance."
      ]
    },
    {
      "cell_type": "code",
      "metadata": {
        "colab": {
          "base_uri": "https://localhost:8080/",
          "height": 461
        },
        "id": "S8hPyBA60Gp8",
        "outputId": "3f99fa3c-4d61-4f52-9fe8-44f8d30c47b0"
      },
      "source": [
        "plt.figure(figsize=(10, 7))\n",
        "sns.countplot(x='Previously_Insured', data=df, hue='Response')\n",
        "plt.xlabel('Previously Insured', size=12)\n",
        "plt.ylabel('Count', size=12)\n",
        "plt.title('Number of Customers Interested in Insurance by Previously Insured')\n",
        "plt.show()"
      ],
      "execution_count": null,
      "outputs": [
        {
          "output_type": "display_data",
          "data": {
            "image/png": "[encoded data removed]",
            "text/plain": [
              "<Figure size 720x504 with 1 Axes>"
            ]
          },
          "metadata": {
            "tags": [],
            "needs_background": "light"
          }
        }
      ]
    },
    {
      "cell_type": "markdown",
      "metadata": {
        "id": "px8d4tL-26n9"
      },
      "source": [
        "Less than half of the customers who were previously insured are willing to renew their insurance. Very minimal amount of new customers are willing to get this vehicle insurance."
      ]
    },
    {
      "cell_type": "code",
      "metadata": {
        "colab": {
          "base_uri": "https://localhost:8080/",
          "height": 461
        },
        "id": "pCIsZO_S3N_F",
        "outputId": "5e622310-b7da-4f71-fb3b-fc99603c772b"
      },
      "source": [
        "plt.figure(figsize=(10, 7))\n",
        "sns.countplot(x='Vehicle_Age', data=df, hue='Response')\n",
        "plt.xlabel('Vehicle Age', size=12)\n",
        "plt.ylabel('Count', size=12)\n",
        "plt.title('Number of Customers Interested in Insurance by Vehicle Age')\n",
        "plt.show()"
      ],
      "execution_count": null,
      "outputs": [
        {
          "output_type": "display_data",
          "data": {
            "image/png": "[encoded data removed]",
            "text/plain": [
              "<Figure size 720x504 with 1 Axes>"
            ]
          },
          "metadata": {
            "tags": [],
            "needs_background": "light"
          }
        }
      ]
    },
    {
      "cell_type": "markdown",
      "metadata": {
        "id": "v84GekI93NsU"
      },
      "source": [
        "Customers who own a vehicle between 1-2 years old are most likely to renew their insurance. "
      ]
    },
    {
      "cell_type": "code",
      "metadata": {
        "colab": {
          "base_uri": "https://localhost:8080/",
          "height": 461
        },
        "id": "vqj7qfUu3dw8",
        "outputId": "1f019278-4fd4-4a13-84f7-f67ba0e7938a"
      },
      "source": [
        "plt.figure(figsize=(7, 7))\n",
        "sns.countplot(x='Gender', data=df, hue='Driving_License')\n",
        "plt.xlabel('Gender', size=12)\n",
        "plt.ylabel('Driving License Count', size=12)\n",
        "plt.title('License Owners Count by Gender', size=12)\n",
        "plt.show()"
      ],
      "execution_count": null,
      "outputs": [
        {
          "output_type": "display_data",
          "data": {
            "image/png": "[encoded data removed]",
            "text/plain": [
              "<Figure size 504x504 with 1 Axes>"
            ]
          },
          "metadata": {
            "tags": [],
            "needs_background": "light"
          }
        }
      ]
    },
    {
      "cell_type": "markdown",
      "metadata": {
        "id": "AQDMKPif9S0l"
      },
      "source": [
        "Almost all the customer own a driving license."
      ]
    },
    {
      "cell_type": "code",
      "metadata": {
        "colab": {
          "base_uri": "https://localhost:8080/",
          "height": 353
        },
        "id": "9vGTzOPX9SWY",
        "outputId": "88f5ee0a-4f39-40f9-d844-9fdbe4696ca1"
      },
      "source": [
        "plt.figure(figsize=(7, 5))\n",
        "sns.countplot(x='Vehicle_Damage', data=df, hue='Response')\n",
        "plt.xlabel('Vehicle Damaged', size=12)\n",
        "plt.ylabel('Response Count', size=12)\n",
        "plt.title('Customer Interest Count dependant on Damaged Vehicle', size=12)\n",
        "plt.show()"
      ],
      "execution_count": null,
      "outputs": [
        {
          "output_type": "display_data",
          "data": {
            "image/png": "[encoded data removed]",
            "text/plain": [
              "<Figure size 504x360 with 1 Axes>"
            ]
          },
          "metadata": {
            "tags": [],
            "needs_background": "light"
          }
        }
      ]
    },
    {
      "cell_type": "markdown",
      "metadata": {
        "id": "Z2K6ZHpkrijE"
      },
      "source": [
        "The graph shows that customers with damaged vehicle are more likely to renew their insurance than customers who own a non damaged vehicle."
      ]
    },
    {
      "cell_type": "markdown",
      "metadata": {
        "id": "0mJtjOWpnf8P"
      },
      "source": [
        "# Data Processing"
      ]
    },
    {
      "cell_type": "code",
      "metadata": {
        "colab": {
          "base_uri": "https://localhost:8080/"
        },
        "id": "SELzjnFwebtF",
        "outputId": "5c1e9209-1300-4da0-d284-b60accae9f52"
      },
      "source": [
        "for col in df.columns:\r\n",
        "  print(col, '% values count:')\r\n",
        "  print(df[col].value_counts()/df.shape[0] * 100)\r\n",
        "  print('------------------------------')"
      ],
      "execution_count": null,
      "outputs": [
        {
          "output_type": "stream",
          "text": [
            "Gender % values count:\n",
            "Male      54.07613\n",
            "Female    45.92387\n",
            "Name: Gender, dtype: float64\n",
            "------------------------------\n",
            "Age % values count:\n",
            "24    6.811700\n",
            "23    6.364583\n",
            "22    5.500788\n",
            "25    5.414724\n",
            "21    4.318187\n",
            "        ...   \n",
            "81    0.014694\n",
            "82    0.007609\n",
            "83    0.005773\n",
            "84    0.002886\n",
            "85    0.002886\n",
            "Name: Age, Length: 66, dtype: float64\n",
            "------------------------------\n",
            "Driving_License % values count:\n",
            "1    99.786938\n",
            "0     0.213062\n",
            "Name: Driving_License, dtype: float64\n",
            "------------------------------\n",
            "Region_Code % values count:\n",
            "28.0    27.922458\n",
            "8.0      8.889058\n",
            "46.0     5.181982\n",
            "41.0     4.792067\n",
            "15.0     3.491914\n",
            "30.0     3.198822\n",
            "29.0     2.903369\n",
            "50.0     2.687683\n",
            "3.0      2.427390\n",
            "11.0     2.422404\n",
            "36.0     2.308264\n",
            "33.0     2.008349\n",
            "47.0     1.951148\n",
            "35.0     1.821526\n",
            "6.0      1.647823\n",
            "45.0     1.470708\n",
            "37.0     1.443419\n",
            "18.0     1.352107\n",
            "48.0     1.228258\n",
            "14.0     1.227470\n",
            "39.0     1.218549\n",
            "10.0     1.147703\n",
            "21.0     1.119365\n",
            "2.0      1.059539\n",
            "13.0     1.059015\n",
            "7.0      0.860384\n",
            "12.0     0.839130\n",
            "9.0      0.813678\n",
            "27.0     0.740733\n",
            "32.0     0.731287\n",
            "43.0     0.692453\n",
            "17.0     0.686680\n",
            "26.0     0.678808\n",
            "25.0     0.656767\n",
            "24.0     0.633677\n",
            "38.0     0.531606\n",
            "0.0      0.530294\n",
            "16.0     0.526621\n",
            "31.0     0.514289\n",
            "23.0     0.514289\n",
            "20.0     0.507729\n",
            "49.0     0.480702\n",
            "4.0      0.472568\n",
            "34.0     0.436620\n",
            "19.0     0.402772\n",
            "22.0     0.343471\n",
            "40.0     0.339798\n",
            "5.0      0.335600\n",
            "1.0      0.264491\n",
            "44.0     0.212013\n",
            "42.0     0.155074\n",
            "52.0     0.070059\n",
            "51.0     0.048018\n",
            "Name: Region_Code, dtype: float64\n",
            "------------------------------\n",
            "Previously_Insured % values count:\n",
            "0    54.178988\n",
            "1    45.821012\n",
            "Name: Previously_Insured, dtype: float64\n",
            "------------------------------\n",
            "Vehicle_Age % values count:\n",
            "1-2 Year     52.561341\n",
            "< 1 Year     43.238549\n",
            "> 2 Years     4.200111\n",
            "Name: Vehicle_Age, dtype: float64\n",
            "------------------------------\n",
            "Vehicle_Damage % values count:\n",
            "Yes    50.487656\n",
            "No     49.512344\n",
            "Name: Vehicle_Damage, dtype: float64\n",
            "------------------------------\n",
            "Annual_Premium % values count:\n",
            "2630.0     17.023214\n",
            "69856.0     0.036735\n",
            "39008.0     0.010758\n",
            "38287.0     0.009971\n",
            "45179.0     0.009971\n",
            "             ...    \n",
            "62326.0     0.000262\n",
            "59733.0     0.000262\n",
            "55934.0     0.000262\n",
            "75387.0     0.000262\n",
            "53346.0     0.000262\n",
            "Name: Annual_Premium, Length: 48838, dtype: float64\n",
            "------------------------------\n",
            "Policy_Sales_Channel % values count:\n",
            "152.0    35.366260\n",
            "26.0     20.912652\n",
            "124.0    19.415705\n",
            "160.0     5.714638\n",
            "156.0     2.797362\n",
            "           ...    \n",
            "144.0     0.000262\n",
            "149.0     0.000262\n",
            "84.0      0.000262\n",
            "143.0     0.000262\n",
            "43.0      0.000262\n",
            "Name: Policy_Sales_Channel, Length: 155, dtype: float64\n",
            "------------------------------\n",
            "Vintage % values count:\n",
            "256    0.372072\n",
            "73     0.369973\n",
            "282    0.366562\n",
            "158    0.365775\n",
            "187    0.365250\n",
            "         ...   \n",
            "205    0.324054\n",
            "89     0.323792\n",
            "32     0.322742\n",
            "224    0.321955\n",
            "277    0.321693\n",
            "Name: Vintage, Length: 290, dtype: float64\n",
            "------------------------------\n",
            "Response % values count:\n",
            "0    87.743664\n",
            "1    12.256336\n",
            "Name: Response, dtype: float64\n",
            "------------------------------\n"
          ],
          "name": "stdout"
        }
      ]
    },
    {
      "cell_type": "markdown",
      "metadata": {
        "id": "5x4ssx6afa5-"
      },
      "source": [
        "Since 99% of the values in Driving_License column are 1, then it means that majority of the customers own a driver's license. So, it does not contribute any meaningful information to Response prediction. So, lets remove it."
      ]
    },
    {
      "cell_type": "code",
      "metadata": {
        "id": "mDne7CnCdlMn"
      },
      "source": [
        "df = df.drop('Driving_License', axis=1)"
      ],
      "execution_count": null,
      "outputs": []
    },
    {
      "cell_type": "code",
      "metadata": {
        "colab": {
          "base_uri": "https://localhost:8080/",
          "height": 455
        },
        "id": "Zih2I7J2mA8v",
        "outputId": "48c6cbb1-bb43-4d2d-826a-da9f9e1ce707"
      },
      "source": [
        "df"
      ],
      "execution_count": null,
      "outputs": [
        {
          "output_type": "execute_result",
          "data": {
            "text/html": [
              "<div>\n",
              "<style scoped>\n",
              "    .dataframe tbody tr th:only-of-type {\n",
              "        vertical-align: middle;\n",
              "    }\n",
              "\n",
              "    .dataframe tbody tr th {\n",
              "        vertical-align: top;\n",
              "    }\n",
              "\n",
              "    .dataframe thead th {\n",
              "        text-align: right;\n",
              "    }\n",
              "</style>\n",
              "<table border=\"1\" class=\"dataframe\">\n",
              "  <thead>\n",
              "    <tr style=\"text-align: right;\">\n",
              "      <th></th>\n",
              "      <th>Gender</th>\n",
              "      <th>Age</th>\n",
              "      <th>Region_Code</th>\n",
              "      <th>Previously_Insured</th>\n",
              "      <th>Vehicle_Age</th>\n",
              "      <th>Vehicle_Damage</th>\n",
              "      <th>Annual_Premium</th>\n",
              "      <th>Policy_Sales_Channel</th>\n",
              "      <th>Vintage</th>\n",
              "      <th>Response</th>\n",
              "    </tr>\n",
              "    <tr>\n",
              "      <th>id</th>\n",
              "      <th></th>\n",
              "      <th></th>\n",
              "      <th></th>\n",
              "      <th></th>\n",
              "      <th></th>\n",
              "      <th></th>\n",
              "      <th></th>\n",
              "      <th></th>\n",
              "      <th></th>\n",
              "      <th></th>\n",
              "    </tr>\n",
              "  </thead>\n",
              "  <tbody>\n",
              "    <tr>\n",
              "      <th>1</th>\n",
              "      <td>Male</td>\n",
              "      <td>44</td>\n",
              "      <td>28.0</td>\n",
              "      <td>0</td>\n",
              "      <td>&gt; 2 Years</td>\n",
              "      <td>Yes</td>\n",
              "      <td>40454.0</td>\n",
              "      <td>26.0</td>\n",
              "      <td>217</td>\n",
              "      <td>1</td>\n",
              "    </tr>\n",
              "    <tr>\n",
              "      <th>2</th>\n",
              "      <td>Male</td>\n",
              "      <td>76</td>\n",
              "      <td>3.0</td>\n",
              "      <td>0</td>\n",
              "      <td>1-2 Year</td>\n",
              "      <td>No</td>\n",
              "      <td>33536.0</td>\n",
              "      <td>26.0</td>\n",
              "      <td>183</td>\n",
              "      <td>0</td>\n",
              "    </tr>\n",
              "    <tr>\n",
              "      <th>3</th>\n",
              "      <td>Male</td>\n",
              "      <td>47</td>\n",
              "      <td>28.0</td>\n",
              "      <td>0</td>\n",
              "      <td>&gt; 2 Years</td>\n",
              "      <td>Yes</td>\n",
              "      <td>38294.0</td>\n",
              "      <td>26.0</td>\n",
              "      <td>27</td>\n",
              "      <td>1</td>\n",
              "    </tr>\n",
              "    <tr>\n",
              "      <th>4</th>\n",
              "      <td>Male</td>\n",
              "      <td>21</td>\n",
              "      <td>11.0</td>\n",
              "      <td>1</td>\n",
              "      <td>&lt; 1 Year</td>\n",
              "      <td>No</td>\n",
              "      <td>28619.0</td>\n",
              "      <td>152.0</td>\n",
              "      <td>203</td>\n",
              "      <td>0</td>\n",
              "    </tr>\n",
              "    <tr>\n",
              "      <th>5</th>\n",
              "      <td>Female</td>\n",
              "      <td>29</td>\n",
              "      <td>41.0</td>\n",
              "      <td>1</td>\n",
              "      <td>&lt; 1 Year</td>\n",
              "      <td>No</td>\n",
              "      <td>27496.0</td>\n",
              "      <td>152.0</td>\n",
              "      <td>39</td>\n",
              "      <td>0</td>\n",
              "    </tr>\n",
              "    <tr>\n",
              "      <th>...</th>\n",
              "      <td>...</td>\n",
              "      <td>...</td>\n",
              "      <td>...</td>\n",
              "      <td>...</td>\n",
              "      <td>...</td>\n",
              "      <td>...</td>\n",
              "      <td>...</td>\n",
              "      <td>...</td>\n",
              "      <td>...</td>\n",
              "      <td>...</td>\n",
              "    </tr>\n",
              "    <tr>\n",
              "      <th>381105</th>\n",
              "      <td>Male</td>\n",
              "      <td>74</td>\n",
              "      <td>26.0</td>\n",
              "      <td>1</td>\n",
              "      <td>1-2 Year</td>\n",
              "      <td>No</td>\n",
              "      <td>30170.0</td>\n",
              "      <td>26.0</td>\n",
              "      <td>88</td>\n",
              "      <td>0</td>\n",
              "    </tr>\n",
              "    <tr>\n",
              "      <th>381106</th>\n",
              "      <td>Male</td>\n",
              "      <td>30</td>\n",
              "      <td>37.0</td>\n",
              "      <td>1</td>\n",
              "      <td>&lt; 1 Year</td>\n",
              "      <td>No</td>\n",
              "      <td>40016.0</td>\n",
              "      <td>152.0</td>\n",
              "      <td>131</td>\n",
              "      <td>0</td>\n",
              "    </tr>\n",
              "    <tr>\n",
              "      <th>381107</th>\n",
              "      <td>Male</td>\n",
              "      <td>21</td>\n",
              "      <td>30.0</td>\n",
              "      <td>1</td>\n",
              "      <td>&lt; 1 Year</td>\n",
              "      <td>No</td>\n",
              "      <td>35118.0</td>\n",
              "      <td>160.0</td>\n",
              "      <td>161</td>\n",
              "      <td>0</td>\n",
              "    </tr>\n",
              "    <tr>\n",
              "      <th>381108</th>\n",
              "      <td>Female</td>\n",
              "      <td>68</td>\n",
              "      <td>14.0</td>\n",
              "      <td>0</td>\n",
              "      <td>&gt; 2 Years</td>\n",
              "      <td>Yes</td>\n",
              "      <td>44617.0</td>\n",
              "      <td>124.0</td>\n",
              "      <td>74</td>\n",
              "      <td>0</td>\n",
              "    </tr>\n",
              "    <tr>\n",
              "      <th>381109</th>\n",
              "      <td>Male</td>\n",
              "      <td>46</td>\n",
              "      <td>29.0</td>\n",
              "      <td>0</td>\n",
              "      <td>1-2 Year</td>\n",
              "      <td>No</td>\n",
              "      <td>41777.0</td>\n",
              "      <td>26.0</td>\n",
              "      <td>237</td>\n",
              "      <td>0</td>\n",
              "    </tr>\n",
              "  </tbody>\n",
              "</table>\n",
              "<p>381109 rows × 10 columns</p>\n",
              "</div>"
            ],
            "text/plain": [
              "        Gender  Age  Region_Code  ...  Policy_Sales_Channel Vintage Response\n",
              "id                                ...                                       \n",
              "1         Male   44         28.0  ...                  26.0     217        1\n",
              "2         Male   76          3.0  ...                  26.0     183        0\n",
              "3         Male   47         28.0  ...                  26.0      27        1\n",
              "4         Male   21         11.0  ...                 152.0     203        0\n",
              "5       Female   29         41.0  ...                 152.0      39        0\n",
              "...        ...  ...          ...  ...                   ...     ...      ...\n",
              "381105    Male   74         26.0  ...                  26.0      88        0\n",
              "381106    Male   30         37.0  ...                 152.0     131        0\n",
              "381107    Male   21         30.0  ...                 160.0     161        0\n",
              "381108  Female   68         14.0  ...                 124.0      74        0\n",
              "381109    Male   46         29.0  ...                  26.0     237        0\n",
              "\n",
              "[381109 rows x 10 columns]"
            ]
          },
          "metadata": {
            "tags": []
          },
          "execution_count": 219
        }
      ]
    },
    {
      "cell_type": "markdown",
      "metadata": {
        "id": "OVngkpbWkZF6"
      },
      "source": [
        "Looking at the dataset, there three attributes which are categorical: Gender, Vehicle_Age and Vehicle_Damage.\n",
        "\n",
        "There are two nominal attributes: Region_Code and Policy_Sales_Channel."
      ]
    },
    {
      "cell_type": "code",
      "metadata": {
        "colab": {
          "base_uri": "https://localhost:8080/"
        },
        "id": "q0MxNiYzk5XN",
        "outputId": "e99d0d62-6fba-4d0e-b940-3b2fb4e0e4a0"
      },
      "source": [
        "print('Gender: \\t', df['Gender'].unique())\n",
        "print('Vehicle Age: \\t', df['Vehicle_Age'].unique())\n",
        "print('Vehicle Damage: \\t', df['Vehicle_Damage'].unique())\n",
        "print('Region Code: \\t', df['Region_Code'].unique())\n",
        "print('Policy Sales Channel: \\t', df['Policy_Sales_Channel'].unique())"
      ],
      "execution_count": null,
      "outputs": [
        {
          "output_type": "stream",
          "text": [
            "Gender: \t ['Male' 'Female']\n",
            "Vehicle Age: \t ['> 2 Years' '1-2 Year' '< 1 Year']\n",
            "Vehicle Damage: \t ['Yes' 'No']\n",
            "Region Code: \t [28.  3. 11. 41. 33.  6. 35. 50. 15. 45.  8. 36. 30. 26. 16. 47. 48. 19.\n",
            " 39. 23. 37.  5. 17.  2.  7. 29. 46. 27. 25. 13. 18. 20. 49. 22. 44.  0.\n",
            "  9. 31. 12. 34. 21. 10. 14. 38. 24. 40. 43. 32.  4. 51. 42.  1. 52.]\n",
            "Policy Sales Channel: \t [ 26. 152. 160. 124.  14.  13.  30. 156. 163. 157. 122.  19.  22.  15.\n",
            " 154.  16.  52. 155.  11. 151. 125.  25.  61.   1.  86.  31. 150.  23.\n",
            "  60.  21. 121.   3. 139.  12.  29.  55.   7.  47. 127. 153.  78. 158.\n",
            "  89.  32.   8.  10. 120.  65.   4.  42.  83. 136.  24.  18.  56.  48.\n",
            " 106.  54.  93. 116.  91.  45.   9. 145. 147.  44. 109.  37. 140. 107.\n",
            " 128. 131. 114. 118. 159. 119. 105. 135.  62. 138. 129.  88.  92. 111.\n",
            " 113.  73.  36.  28.  35.  59.  53. 148. 133. 108.  64.  39.  94. 132.\n",
            "  46.  81. 103.  90.  51.  27. 146.  63.  96.  40.  66. 100.  95. 123.\n",
            "  98.  75.  69. 130. 134.  49.  97.  38.  17. 110.  80.  71. 117.  58.\n",
            "  20.  76. 104.  87.  84. 137. 126.  68.  67. 101. 115.  57.  82.  79.\n",
            " 112.  99.  70.   2.  34.  33.  74. 102. 149.  43.   6.  50. 144. 143.\n",
            "  41.]\n"
          ],
          "name": "stdout"
        }
      ]
    },
    {
      "cell_type": "markdown",
      "metadata": {
        "id": "wnxrU66UmuK9"
      },
      "source": [
        "Lets replace the Yes and No values for Vehicle_Damage.\n",
        "\n",
        "1 -> True\n",
        "\n",
        "0 -> False"
      ]
    },
    {
      "cell_type": "code",
      "metadata": {
        "id": "WD3TgYUtmtuE"
      },
      "source": [
        "df['Vehicle_Damage'] = df['Vehicle_Damage'].apply(lambda x: 1 if x == 'Yes' else 0)"
      ],
      "execution_count": null,
      "outputs": []
    },
    {
      "cell_type": "markdown",
      "metadata": {
        "id": "EmazVdkMAEJi"
      },
      "source": [
        "Map Gender to binary values. \n",
        "\n",
        "1 -> Male\n",
        "\n",
        "0 -> Female"
      ]
    },
    {
      "cell_type": "code",
      "metadata": {
        "id": "VBnpdcRremhG"
      },
      "source": [
        "df['Gender'] = df['Gender'].apply(lambda x: 1 if x == 'Male' else 0)"
      ],
      "execution_count": null,
      "outputs": []
    },
    {
      "cell_type": "markdown",
      "metadata": {
        "id": "Fg0fhIu2BsSs"
      },
      "source": [
        "Apply One Hot Encoding for Vehicle_Age.\n",
        "\n"
      ]
    },
    {
      "cell_type": "code",
      "metadata": {
        "id": "9p1zbMsfanyC"
      },
      "source": [
        "for val in df['Vehicle_Age'].unique():\n",
        "  df['Vehicle_Age_' + str(val)] = df['Vehicle_Age'].apply(lambda x: 1 if x == val else 0)\n",
        "\n",
        "df = df.drop('Vehicle_Age', axis=1)"
      ],
      "execution_count": null,
      "outputs": []
    },
    {
      "cell_type": "markdown",
      "metadata": {
        "id": "YF0BHKhGrZHR"
      },
      "source": [
        "Split the data into train and test datasets."
      ]
    },
    {
      "cell_type": "code",
      "metadata": {
        "colab": {
          "base_uri": "https://localhost:8080/",
          "height": 455
        },
        "id": "OyS2v_rBTqzI",
        "outputId": "73cfc3c4-5656-4e68-dacb-946667fd231a"
      },
      "source": [
        "df"
      ],
      "execution_count": null,
      "outputs": [
        {
          "output_type": "execute_result",
          "data": {
            "text/html": [
              "<div>\n",
              "<style scoped>\n",
              "    .dataframe tbody tr th:only-of-type {\n",
              "        vertical-align: middle;\n",
              "    }\n",
              "\n",
              "    .dataframe tbody tr th {\n",
              "        vertical-align: top;\n",
              "    }\n",
              "\n",
              "    .dataframe thead th {\n",
              "        text-align: right;\n",
              "    }\n",
              "</style>\n",
              "<table border=\"1\" class=\"dataframe\">\n",
              "  <thead>\n",
              "    <tr style=\"text-align: right;\">\n",
              "      <th></th>\n",
              "      <th>Gender</th>\n",
              "      <th>Age</th>\n",
              "      <th>Region_Code</th>\n",
              "      <th>Previously_Insured</th>\n",
              "      <th>Vehicle_Damage</th>\n",
              "      <th>Annual_Premium</th>\n",
              "      <th>Policy_Sales_Channel</th>\n",
              "      <th>Vintage</th>\n",
              "      <th>Response</th>\n",
              "      <th>Vehicle_Age_&gt; 2 Years</th>\n",
              "      <th>Vehicle_Age_1-2 Year</th>\n",
              "      <th>Vehicle_Age_&lt; 1 Year</th>\n",
              "    </tr>\n",
              "    <tr>\n",
              "      <th>id</th>\n",
              "      <th></th>\n",
              "      <th></th>\n",
              "      <th></th>\n",
              "      <th></th>\n",
              "      <th></th>\n",
              "      <th></th>\n",
              "      <th></th>\n",
              "      <th></th>\n",
              "      <th></th>\n",
              "      <th></th>\n",
              "      <th></th>\n",
              "      <th></th>\n",
              "    </tr>\n",
              "  </thead>\n",
              "  <tbody>\n",
              "    <tr>\n",
              "      <th>1</th>\n",
              "      <td>1</td>\n",
              "      <td>44</td>\n",
              "      <td>28.0</td>\n",
              "      <td>0</td>\n",
              "      <td>1</td>\n",
              "      <td>40454.0</td>\n",
              "      <td>26.0</td>\n",
              "      <td>217</td>\n",
              "      <td>1</td>\n",
              "      <td>1</td>\n",
              "      <td>0</td>\n",
              "      <td>0</td>\n",
              "    </tr>\n",
              "    <tr>\n",
              "      <th>2</th>\n",
              "      <td>1</td>\n",
              "      <td>76</td>\n",
              "      <td>3.0</td>\n",
              "      <td>0</td>\n",
              "      <td>0</td>\n",
              "      <td>33536.0</td>\n",
              "      <td>26.0</td>\n",
              "      <td>183</td>\n",
              "      <td>0</td>\n",
              "      <td>0</td>\n",
              "      <td>1</td>\n",
              "      <td>0</td>\n",
              "    </tr>\n",
              "    <tr>\n",
              "      <th>3</th>\n",
              "      <td>1</td>\n",
              "      <td>47</td>\n",
              "      <td>28.0</td>\n",
              "      <td>0</td>\n",
              "      <td>1</td>\n",
              "      <td>38294.0</td>\n",
              "      <td>26.0</td>\n",
              "      <td>27</td>\n",
              "      <td>1</td>\n",
              "      <td>1</td>\n",
              "      <td>0</td>\n",
              "      <td>0</td>\n",
              "    </tr>\n",
              "    <tr>\n",
              "      <th>4</th>\n",
              "      <td>1</td>\n",
              "      <td>21</td>\n",
              "      <td>11.0</td>\n",
              "      <td>1</td>\n",
              "      <td>0</td>\n",
              "      <td>28619.0</td>\n",
              "      <td>152.0</td>\n",
              "      <td>203</td>\n",
              "      <td>0</td>\n",
              "      <td>0</td>\n",
              "      <td>0</td>\n",
              "      <td>1</td>\n",
              "    </tr>\n",
              "    <tr>\n",
              "      <th>5</th>\n",
              "      <td>0</td>\n",
              "      <td>29</td>\n",
              "      <td>41.0</td>\n",
              "      <td>1</td>\n",
              "      <td>0</td>\n",
              "      <td>27496.0</td>\n",
              "      <td>152.0</td>\n",
              "      <td>39</td>\n",
              "      <td>0</td>\n",
              "      <td>0</td>\n",
              "      <td>0</td>\n",
              "      <td>1</td>\n",
              "    </tr>\n",
              "    <tr>\n",
              "      <th>...</th>\n",
              "      <td>...</td>\n",
              "      <td>...</td>\n",
              "      <td>...</td>\n",
              "      <td>...</td>\n",
              "      <td>...</td>\n",
              "      <td>...</td>\n",
              "      <td>...</td>\n",
              "      <td>...</td>\n",
              "      <td>...</td>\n",
              "      <td>...</td>\n",
              "      <td>...</td>\n",
              "      <td>...</td>\n",
              "    </tr>\n",
              "    <tr>\n",
              "      <th>381105</th>\n",
              "      <td>1</td>\n",
              "      <td>74</td>\n",
              "      <td>26.0</td>\n",
              "      <td>1</td>\n",
              "      <td>0</td>\n",
              "      <td>30170.0</td>\n",
              "      <td>26.0</td>\n",
              "      <td>88</td>\n",
              "      <td>0</td>\n",
              "      <td>0</td>\n",
              "      <td>1</td>\n",
              "      <td>0</td>\n",
              "    </tr>\n",
              "    <tr>\n",
              "      <th>381106</th>\n",
              "      <td>1</td>\n",
              "      <td>30</td>\n",
              "      <td>37.0</td>\n",
              "      <td>1</td>\n",
              "      <td>0</td>\n",
              "      <td>40016.0</td>\n",
              "      <td>152.0</td>\n",
              "      <td>131</td>\n",
              "      <td>0</td>\n",
              "      <td>0</td>\n",
              "      <td>0</td>\n",
              "      <td>1</td>\n",
              "    </tr>\n",
              "    <tr>\n",
              "      <th>381107</th>\n",
              "      <td>1</td>\n",
              "      <td>21</td>\n",
              "      <td>30.0</td>\n",
              "      <td>1</td>\n",
              "      <td>0</td>\n",
              "      <td>35118.0</td>\n",
              "      <td>160.0</td>\n",
              "      <td>161</td>\n",
              "      <td>0</td>\n",
              "      <td>0</td>\n",
              "      <td>0</td>\n",
              "      <td>1</td>\n",
              "    </tr>\n",
              "    <tr>\n",
              "      <th>381108</th>\n",
              "      <td>0</td>\n",
              "      <td>68</td>\n",
              "      <td>14.0</td>\n",
              "      <td>0</td>\n",
              "      <td>1</td>\n",
              "      <td>44617.0</td>\n",
              "      <td>124.0</td>\n",
              "      <td>74</td>\n",
              "      <td>0</td>\n",
              "      <td>1</td>\n",
              "      <td>0</td>\n",
              "      <td>0</td>\n",
              "    </tr>\n",
              "    <tr>\n",
              "      <th>381109</th>\n",
              "      <td>1</td>\n",
              "      <td>46</td>\n",
              "      <td>29.0</td>\n",
              "      <td>0</td>\n",
              "      <td>0</td>\n",
              "      <td>41777.0</td>\n",
              "      <td>26.0</td>\n",
              "      <td>237</td>\n",
              "      <td>0</td>\n",
              "      <td>0</td>\n",
              "      <td>1</td>\n",
              "      <td>0</td>\n",
              "    </tr>\n",
              "  </tbody>\n",
              "</table>\n",
              "<p>381109 rows × 12 columns</p>\n",
              "</div>"
            ],
            "text/plain": [
              "        Gender  Age  ...  Vehicle_Age_1-2 Year  Vehicle_Age_< 1 Year\n",
              "id                   ...                                            \n",
              "1            1   44  ...                     0                     0\n",
              "2            1   76  ...                     1                     0\n",
              "3            1   47  ...                     0                     0\n",
              "4            1   21  ...                     0                     1\n",
              "5            0   29  ...                     0                     1\n",
              "...        ...  ...  ...                   ...                   ...\n",
              "381105       1   74  ...                     1                     0\n",
              "381106       1   30  ...                     0                     1\n",
              "381107       1   21  ...                     0                     1\n",
              "381108       0   68  ...                     0                     0\n",
              "381109       1   46  ...                     1                     0\n",
              "\n",
              "[381109 rows x 12 columns]"
            ]
          },
          "metadata": {
            "tags": []
          },
          "execution_count": 224
        }
      ]
    },
    {
      "cell_type": "code",
      "metadata": {
        "id": "n2Dg9vp9v4zj"
      },
      "source": [
        "X = df.drop('Response', axis=1)\n",
        "Y = df['Response']\n",
        "\n",
        "x_train, x_test, y_train, y_test = train_test_split(X, Y, test_size=0.4, random_state=42)\n",
        "x_train = x_train.copy()\n",
        "x_test = x_test.copy()\n",
        "y_train = y_train.copy()\n",
        "y_test = y_test.copy()"
      ],
      "execution_count": null,
      "outputs": []
    },
    {
      "cell_type": "markdown",
      "metadata": {
        "id": "DKuLUar1p5Q-"
      },
      "source": [
        "Standardize continuous attributes"
      ]
    },
    {
      "cell_type": "code",
      "metadata": {
        "id": "4Mj4vdK_p8ss"
      },
      "source": [
        "cont_vars = ['Age', 'Annual_Premium', 'Vintage']\n",
        "\n",
        "for var in cont_vars:\n",
        "  sc = StandardScaler()\n",
        "  sc.fit(x_train[var].values.reshape(-1, 1))\n",
        "  x_train[var] = sc.transform(x_train[var].values.reshape(-1, 1))\n",
        "  x_test[var] = sc.transform(x_test[var].values.reshape(-1, 1))"
      ],
      "execution_count": null,
      "outputs": []
    },
    {
      "cell_type": "code",
      "metadata": {
        "colab": {
          "base_uri": "https://localhost:8080/",
          "height": 455
        },
        "id": "RXjc1Y4vxcp-",
        "outputId": "149619a3-e8e2-4729-daa6-27b2af3cc739"
      },
      "source": [
        "x_train"
      ],
      "execution_count": null,
      "outputs": [
        {
          "output_type": "execute_result",
          "data": {
            "text/html": [
              "<div>\n",
              "<style scoped>\n",
              "    .dataframe tbody tr th:only-of-type {\n",
              "        vertical-align: middle;\n",
              "    }\n",
              "\n",
              "    .dataframe tbody tr th {\n",
              "        vertical-align: top;\n",
              "    }\n",
              "\n",
              "    .dataframe thead th {\n",
              "        text-align: right;\n",
              "    }\n",
              "</style>\n",
              "<table border=\"1\" class=\"dataframe\">\n",
              "  <thead>\n",
              "    <tr style=\"text-align: right;\">\n",
              "      <th></th>\n",
              "      <th>Gender</th>\n",
              "      <th>Age</th>\n",
              "      <th>Region_Code</th>\n",
              "      <th>Previously_Insured</th>\n",
              "      <th>Vehicle_Damage</th>\n",
              "      <th>Annual_Premium</th>\n",
              "      <th>Policy_Sales_Channel</th>\n",
              "      <th>Vintage</th>\n",
              "      <th>Vehicle_Age_&gt; 2 Years</th>\n",
              "      <th>Vehicle_Age_1-2 Year</th>\n",
              "      <th>Vehicle_Age_&lt; 1 Year</th>\n",
              "    </tr>\n",
              "    <tr>\n",
              "      <th>id</th>\n",
              "      <th></th>\n",
              "      <th></th>\n",
              "      <th></th>\n",
              "      <th></th>\n",
              "      <th></th>\n",
              "      <th></th>\n",
              "      <th></th>\n",
              "      <th></th>\n",
              "      <th></th>\n",
              "      <th></th>\n",
              "      <th></th>\n",
              "    </tr>\n",
              "  </thead>\n",
              "  <tbody>\n",
              "    <tr>\n",
              "      <th>246278</th>\n",
              "      <td>0</td>\n",
              "      <td>-0.958263</td>\n",
              "      <td>36.0</td>\n",
              "      <td>0</td>\n",
              "      <td>1</td>\n",
              "      <td>0.695175</td>\n",
              "      <td>152.0</td>\n",
              "      <td>-1.688028</td>\n",
              "      <td>0</td>\n",
              "      <td>0</td>\n",
              "      <td>1</td>\n",
              "    </tr>\n",
              "    <tr>\n",
              "      <th>203767</th>\n",
              "      <td>1</td>\n",
              "      <td>-1.151620</td>\n",
              "      <td>13.0</td>\n",
              "      <td>1</td>\n",
              "      <td>0</td>\n",
              "      <td>-0.321132</td>\n",
              "      <td>160.0</td>\n",
              "      <td>0.916593</td>\n",
              "      <td>0</td>\n",
              "      <td>0</td>\n",
              "      <td>1</td>\n",
              "    </tr>\n",
              "    <tr>\n",
              "      <th>163723</th>\n",
              "      <td>1</td>\n",
              "      <td>0.781946</td>\n",
              "      <td>8.0</td>\n",
              "      <td>0</td>\n",
              "      <td>1</td>\n",
              "      <td>-1.618103</td>\n",
              "      <td>7.0</td>\n",
              "      <td>1.609566</td>\n",
              "      <td>0</td>\n",
              "      <td>1</td>\n",
              "      <td>0</td>\n",
              "    </tr>\n",
              "    <tr>\n",
              "      <th>77458</th>\n",
              "      <td>0</td>\n",
              "      <td>0.137424</td>\n",
              "      <td>8.0</td>\n",
              "      <td>0</td>\n",
              "      <td>1</td>\n",
              "      <td>0.825144</td>\n",
              "      <td>7.0</td>\n",
              "      <td>-0.003388</td>\n",
              "      <td>0</td>\n",
              "      <td>1</td>\n",
              "      <td>0</td>\n",
              "    </tr>\n",
              "    <tr>\n",
              "      <th>85470</th>\n",
              "      <td>1</td>\n",
              "      <td>0.395233</td>\n",
              "      <td>28.0</td>\n",
              "      <td>0</td>\n",
              "      <td>1</td>\n",
              "      <td>1.917406</td>\n",
              "      <td>124.0</td>\n",
              "      <td>0.904645</td>\n",
              "      <td>1</td>\n",
              "      <td>0</td>\n",
              "      <td>0</td>\n",
              "    </tr>\n",
              "    <tr>\n",
              "      <th>...</th>\n",
              "      <td>...</td>\n",
              "      <td>...</td>\n",
              "      <td>...</td>\n",
              "      <td>...</td>\n",
              "      <td>...</td>\n",
              "      <td>...</td>\n",
              "      <td>...</td>\n",
              "      <td>...</td>\n",
              "      <td>...</td>\n",
              "      <td>...</td>\n",
              "      <td>...</td>\n",
              "    </tr>\n",
              "    <tr>\n",
              "      <th>259179</th>\n",
              "      <td>0</td>\n",
              "      <td>-0.958263</td>\n",
              "      <td>36.0</td>\n",
              "      <td>1</td>\n",
              "      <td>0</td>\n",
              "      <td>-0.463432</td>\n",
              "      <td>152.0</td>\n",
              "      <td>1.585670</td>\n",
              "      <td>0</td>\n",
              "      <td>0</td>\n",
              "      <td>1</td>\n",
              "    </tr>\n",
              "    <tr>\n",
              "      <th>365839</th>\n",
              "      <td>1</td>\n",
              "      <td>1.104208</td>\n",
              "      <td>35.0</td>\n",
              "      <td>0</td>\n",
              "      <td>1</td>\n",
              "      <td>0.619856</td>\n",
              "      <td>124.0</td>\n",
              "      <td>1.717096</td>\n",
              "      <td>0</td>\n",
              "      <td>1</td>\n",
              "      <td>0</td>\n",
              "    </tr>\n",
              "    <tr>\n",
              "      <th>131933</th>\n",
              "      <td>0</td>\n",
              "      <td>-1.087168</td>\n",
              "      <td>2.0</td>\n",
              "      <td>0</td>\n",
              "      <td>1</td>\n",
              "      <td>-0.678678</td>\n",
              "      <td>152.0</td>\n",
              "      <td>-0.935316</td>\n",
              "      <td>0</td>\n",
              "      <td>0</td>\n",
              "      <td>1</td>\n",
              "    </tr>\n",
              "    <tr>\n",
              "      <th>146868</th>\n",
              "      <td>1</td>\n",
              "      <td>0.330781</td>\n",
              "      <td>32.0</td>\n",
              "      <td>1</td>\n",
              "      <td>1</td>\n",
              "      <td>-1.618103</td>\n",
              "      <td>156.0</td>\n",
              "      <td>-1.234011</td>\n",
              "      <td>0</td>\n",
              "      <td>1</td>\n",
              "      <td>0</td>\n",
              "    </tr>\n",
              "    <tr>\n",
              "      <th>121959</th>\n",
              "      <td>0</td>\n",
              "      <td>-0.764907</td>\n",
              "      <td>37.0</td>\n",
              "      <td>0</td>\n",
              "      <td>1</td>\n",
              "      <td>-0.338037</td>\n",
              "      <td>152.0</td>\n",
              "      <td>-0.325978</td>\n",
              "      <td>0</td>\n",
              "      <td>0</td>\n",
              "      <td>1</td>\n",
              "    </tr>\n",
              "  </tbody>\n",
              "</table>\n",
              "<p>228665 rows × 11 columns</p>\n",
              "</div>"
            ],
            "text/plain": [
              "        Gender       Age  ...  Vehicle_Age_1-2 Year  Vehicle_Age_< 1 Year\n",
              "id                        ...                                            \n",
              "246278       0 -0.958263  ...                     0                     1\n",
              "203767       1 -1.151620  ...                     0                     1\n",
              "163723       1  0.781946  ...                     1                     0\n",
              "77458        0  0.137424  ...                     1                     0\n",
              "85470        1  0.395233  ...                     0                     0\n",
              "...        ...       ...  ...                   ...                   ...\n",
              "259179       0 -0.958263  ...                     0                     1\n",
              "365839       1  1.104208  ...                     1                     0\n",
              "131933       0 -1.087168  ...                     0                     1\n",
              "146868       1  0.330781  ...                     1                     0\n",
              "121959       0 -0.764907  ...                     0                     1\n",
              "\n",
              "[228665 rows x 11 columns]"
            ]
          },
          "metadata": {
            "tags": []
          },
          "execution_count": 227
        }
      ]
    },
    {
      "cell_type": "markdown",
      "metadata": {
        "id": "90B_k538k4n4"
      },
      "source": [
        "# Model Application"
      ]
    },
    {
      "cell_type": "markdown",
      "metadata": {
        "id": "j61eQ9xl1zUG"
      },
      "source": [
        "## Logistic Regression"
      ]
    },
    {
      "cell_type": "code",
      "metadata": {
        "id": "GOq3ADv5plaI"
      },
      "source": [
        "solver_list = ['newton-cg', 'lbfgs', 'liblinear', 'sag', 'saga']\n",
        "\n",
        "lr_pred_list = []\n",
        "\n",
        "for s in solver_list:\n",
        "  lr = LogisticRegression(solver=s, max_iter=5000)\n",
        "  lr.fit(x_train, y_train)\n",
        "  lr_pred_list.append(lr.predict(x_test))"
      ],
      "execution_count": null,
      "outputs": []
    },
    {
      "cell_type": "code",
      "metadata": {
        "colab": {
          "base_uri": "https://localhost:8080/",
          "height": 1000
        },
        "id": "_pd4XbIcqVCm",
        "outputId": "1cba4c42-4cf8-433f-af5e-960dd7d0682c"
      },
      "source": [
        "for i in range(0, len(lr_pred_list)):\n",
        "  print(solver_list[i], ':')\n",
        "  print('Accuracy', accuracy_score(y_test, lr_pred_list[i])*100)\n",
        "  print('Precision', precision_score(y_test, lr_pred_list[i])*100)\n",
        "  print('Recall', recall_score(y_test, lr_pred_list[i])*100)\n",
        "  print('F1', f1_score(y_test, lr_pred_list[i])*100)\n",
        "  print('ROC AUC', roc_auc_score(y_test, lr_pred_list[i])*100)\n",
        "  cm = confusion_matrix(y_test, lr_pred_list[i], normalize='all')\n",
        "  ConfusionMatrixDisplay(cm, display_labels=['Not Interested', 'Interested']).plot()\n",
        "  plt.show()"
      ],
      "execution_count": null,
      "outputs": [
        {
          "output_type": "stream",
          "text": [
            "newton-cg :\n",
            "Accuracy 87.62168402823332\n",
            "Precision 0.0\n",
            "Recall 0.0\n",
            "F1 0.0\n",
            "ROC AUC 49.99850274745841\n"
          ],
          "name": "stdout"
        },
        {
          "output_type": "display_data",
          "data": {
            "image/png": "[encoded data removed]",
            "text/plain": [
              "<Figure size 432x288 with 2 Axes>"
            ]
          },
          "metadata": {
            "tags": [],
            "needs_background": "light"
          }
        },
        {
          "output_type": "stream",
          "text": [
            "lbfgs :\n",
            "Accuracy 87.62168402823332\n",
            "Precision 16.666666666666664\n",
            "Recall 0.005300540655146825\n",
            "F1 0.010597710894446798\n",
            "ROC AUC 50.00077870465059\n"
          ],
          "name": "stdout"
        },
        {
          "output_type": "display_data",
          "data": {
            "image/png": "[encoded data removed]",
            "text/plain": [
              "<Figure size 432x288 with 2 Axes>"
            ]
          },
          "metadata": {
            "tags": [],
            "needs_background": "light"
          }
        },
        {
          "output_type": "stream",
          "text": [
            "liblinear :\n",
            "Accuracy 87.62168402823332\n",
            "Precision 0.0\n",
            "Recall 0.0\n",
            "F1 0.0\n",
            "ROC AUC 49.99850274745841\n"
          ],
          "name": "stdout"
        },
        {
          "output_type": "display_data",
          "data": {
            "image/png": "[encoded data removed]",
            "text/plain": [
              "<Figure size 432x288 with 2 Axes>"
            ]
          },
          "metadata": {
            "tags": [],
            "needs_background": "light"
          }
        },
        {
          "output_type": "stream",
          "text": [
            "sag :\n",
            "Accuracy 87.62168402823332\n",
            "Precision 0.0\n",
            "Recall 0.0\n",
            "F1 0.0\n",
            "ROC AUC 49.99850274745841\n"
          ],
          "name": "stdout"
        },
        {
          "output_type": "display_data",
          "data": {
            "image/png": "[encoded data removed]",
            "text/plain": [
              "<Figure size 432x288 with 2 Axes>"
            ]
          },
          "metadata": {
            "tags": [],
            "needs_background": "light"
          }
        },
        {
          "output_type": "stream",
          "text": [
            "saga :\n",
            "Accuracy 87.62168402823332\n",
            "Precision 0.0\n",
            "Recall 0.0\n",
            "F1 0.0\n",
            "ROC AUC 49.99850274745841\n"
          ],
          "name": "stdout"
        },
        {
          "output_type": "display_data",
          "data": {
            "image/png": "[encoded data removed]",
            "text/plain": [
              "<Figure size 432x288 with 2 Axes>"
            ]
          },
          "metadata": {
            "tags": [],
            "needs_background": "light"
          }
        }
      ]
    },
    {
      "cell_type": "markdown",
      "metadata": {
        "id": "e-qz2N8S13vx"
      },
      "source": [
        "## Decision Tree"
      ]
    },
    {
      "cell_type": "code",
      "metadata": {
        "id": "NzASZCQo15lM"
      },
      "source": [
        "criterion_list = ['gini', 'entropy']\n",
        "\n",
        "dt_pred_list = []\n",
        "\n",
        "for c in criterion_list:\n",
        "  dt = DecisionTreeClassifier(criterion=c)\n",
        "  dt.fit(x_train, y_train)\n",
        "  dt_pred_list.append(dt.predict(x_test))"
      ],
      "execution_count": null,
      "outputs": []
    },
    {
      "cell_type": "code",
      "metadata": {
        "colab": {
          "base_uri": "https://localhost:8080/",
          "height": 761
        },
        "id": "T1WHZaTrUU-u",
        "outputId": "5e114806-19dd-468a-f0b1-3d32198dba17"
      },
      "source": [
        "for i in range(0, len(dt_pred_list)):\n",
        "  print(criterion_list[i], ':')\n",
        "  print('Accuracy', accuracy_score(y_test, dt_pred_list[i])*100)\n",
        "  print('Precision', precision_score(y_test, dt_pred_list[i])*100)\n",
        "  print('Recall', recall_score(y_test, dt_pred_list[i])*100)\n",
        "  print('F1', f1_score(y_test, dt_pred_list[i])*100)\n",
        "  print('ROC AUC', roc_auc_score(y_test, dt_pred_list[i])*100)\n",
        "  cm = confusion_matrix(y_test, dt_pred_list[i], normalize='all')\n",
        "  ConfusionMatrixDisplay(cm, display_labels=['Not Interested', 'Interested']).plot()\n",
        "  plt.show()"
      ],
      "execution_count": null,
      "outputs": [
        {
          "output_type": "stream",
          "text": [
            "gini :\n",
            "Accuracy 82.32072105166488\n",
            "Precision 29.590548795880245\n",
            "Recall 31.066468779815544\n",
            "F1 30.310552581904687\n",
            "ROC AUC 60.31306340366752\n"
          ],
          "name": "stdout"
        },
        {
          "output_type": "display_data",
          "data": {
            "image/png": "[encoded data removed]",
            "text/plain": [
              "<Figure size 432x288 with 2 Axes>"
            ]
          },
          "metadata": {
            "tags": [],
            "needs_background": "light"
          }
        },
        {
          "output_type": "stream",
          "text": [
            "entropy :\n",
            "Accuracy 82.40403033244995\n",
            "Precision 29.474878778499946\n",
            "Recall 30.287289303508956\n",
            "F1 29.875562062114398\n",
            "ROC AUC 60.02603546461288\n"
          ],
          "name": "stdout"
        },
        {
          "output_type": "display_data",
          "data": {
            "image/png": "[encoded data removed]",
            "text/plain": [
              "<Figure size 432x288 with 2 Axes>"
            ]
          },
          "metadata": {
            "tags": [],
            "needs_background": "light"
          }
        }
      ]
    },
    {
      "cell_type": "markdown",
      "metadata": {
        "id": "enoRf9hW1585"
      },
      "source": [
        "## Random Forest"
      ]
    },
    {
      "cell_type": "code",
      "metadata": {
        "id": "SNIkqTif17Nu"
      },
      "source": [
        "rf_pred_list = []\n",
        "\n",
        "for c in criterion_list:\n",
        "  rf = RandomForestClassifier(criterion=c)\n",
        "  rf.fit(x_train, y_train)\n",
        "  rf_pred_list.append(rf.predict(x_test))"
      ],
      "execution_count": null,
      "outputs": []
    },
    {
      "cell_type": "code",
      "metadata": {
        "colab": {
          "base_uri": "https://localhost:8080/",
          "height": 761
        },
        "id": "0XuussW13nOx",
        "outputId": "41c02da4-750e-4181-b4fa-4fc2648522fb"
      },
      "source": [
        "for i in range(0, len(rf_pred_list)):\n",
        "  print(criterion_list[i], ':')\n",
        "  print('Accuracy', accuracy_score(y_test, rf_pred_list[i])*100)\n",
        "  print('Precision', precision_score(y_test, rf_pred_list[i])*100)\n",
        "  print('Recall', recall_score(y_test, rf_pred_list[i])*100)\n",
        "  print('F1', f1_score(y_test, rf_pred_list[i])*100)\n",
        "  print('ROC AUC', roc_auc_score(y_test, rf_pred_list[i])*100)\n",
        "  cm = confusion_matrix(y_test, rf_pred_list[i], normalize='all')\n",
        "  ConfusionMatrixDisplay(cm, display_labels=['Not Interested', 'Interested']).plot()\n",
        "  plt.show()"
      ],
      "execution_count": null,
      "outputs": [
        {
          "output_type": "stream",
          "text": [
            "gini :\n",
            "Accuracy 86.6573955026108\n",
            "Precision 37.332416638019936\n",
            "Recall 11.512774302978904\n",
            "F1 17.59844433641225\n",
            "ROC AUC 54.391641459833636\n"
          ],
          "name": "stdout"
        },
        {
          "output_type": "display_data",
          "data": {
            "image/png": "[encoded data removed]",
            "text/plain": [
              "<Figure size 432x288 with 2 Axes>"
            ]
          },
          "metadata": {
            "tags": [],
            "needs_background": "light"
          }
        },
        {
          "output_type": "stream",
          "text": [
            "entropy :\n",
            "Accuracy 86.64427593083362\n",
            "Precision 36.99965193177863\n",
            "Recall 11.26894943284215\n",
            "F1 17.27612546725175\n",
            "ROC AUC 54.27946116628557\n"
          ],
          "name": "stdout"
        },
        {
          "output_type": "display_data",
          "data": {
            "image/png": "[encoded data removed]",
            "text/plain": [
              "<Figure size 432x288 with 2 Axes>"
            ]
          },
          "metadata": {
            "tags": [],
            "needs_background": "light"
          }
        }
      ]
    },
    {
      "cell_type": "markdown",
      "metadata": {
        "id": "eCOuF8AI17vc"
      },
      "source": [
        "## Deep Neural Network"
      ]
    },
    {
      "cell_type": "code",
      "metadata": {
        "id": "6lIjzMChATV5"
      },
      "source": [
        "n_epoch = 10\n",
        "batch_size = 256\n",
        "\n",
        "# change the shape of the data for LSTM\n",
        "train_X = x_train.to_numpy().reshape(-1, 1, x_train.shape[1])\n",
        "train_Y = tf.keras.utils.to_categorical(y_train, num_classes=2)\n",
        "test_X = x_test.to_numpy().reshape(-1, 1, x_test.shape[1])\n",
        "test_Y = tf.keras.utils.to_categorical(y_test, num_classes=2)"
      ],
      "execution_count": null,
      "outputs": []
    },
    {
      "cell_type": "code",
      "metadata": {
        "id": "42ogtTHM19rZ"
      },
      "source": [
        "def getModel(lstm_size, input_shape, loss_function):\n",
        "  model = tf.keras.Sequential()\n",
        "  model.add(tf.keras.layers.Input(shape=(1, input_shape)))\n",
        "  model.add(tf.keras.layers.LSTM(lstm_size))\n",
        "  model.add(tf.keras.layers.Dense(1, activation='sigmoid'))\n",
        "  model.summary()\n",
        "  model.compile(optimizer='adam', loss=loss_funcs, metrics=['accuracy'])\n",
        "  return model"
      ],
      "execution_count": null,
      "outputs": []
    },
    {
      "cell_type": "code",
      "metadata": {
        "colab": {
          "base_uri": "https://localhost:8080/"
        },
        "id": "PSvs85Gi_feD",
        "outputId": "00991458-798a-4963-e043-83d5a04690d8"
      },
      "source": [
        "loss_funcs = ['binary_crossentropy', 'hinge', 'squared_hinge']\n",
        "\n",
        "dnn_pred_list = []\n",
        "history = []\n",
        "\n",
        "for lf in loss_funcs:\n",
        "  nn_model = getModel(x_train.shape[1]*6, x_train.shape[1], lf)\n",
        "  nn_model.fit(train_X, y_train, epochs=n_epoch, batch_size=batch_size)\n",
        "  history.append(nn_model.history.history)\n",
        "\n",
        "  y_pred = nn_model.predict(test_X)\n",
        "\n",
        "  dnn_pred_list.append(y_pred)"
      ],
      "execution_count": null,
      "outputs": [
        {
          "output_type": "stream",
          "text": [
            "Model: \"sequential_45\"\n",
            "_________________________________________________________________\n",
            "Layer (type)                 Output Shape              Param #   \n",
            "=================================================================\n",
            "lstm_45 (LSTM)               (None, 66)                20592     \n",
            "_________________________________________________________________\n",
            "dense_45 (Dense)             (None, 1)                 67        \n",
            "=================================================================\n",
            "Total params: 20,659\n",
            "Trainable params: 20,659\n",
            "Non-trainable params: 0\n",
            "_________________________________________________________________\n",
            "Epoch 1/10\n",
            "894/894 [==============================] - 3s 4ms/step - loss: 0.3065 - accuracy: 0.8763\n",
            "Epoch 2/10\n",
            "894/894 [==============================] - 3s 4ms/step - loss: 0.2745 - accuracy: 0.8780\n",
            "Epoch 3/10\n",
            "894/894 [==============================] - 3s 4ms/step - loss: 0.2730 - accuracy: 0.8781\n",
            "Epoch 4/10\n",
            "894/894 [==============================] - 3s 4ms/step - loss: 0.2722 - accuracy: 0.8781\n",
            "Epoch 5/10\n",
            "894/894 [==============================] - 4s 4ms/step - loss: 0.2714 - accuracy: 0.8781\n",
            "Epoch 6/10\n",
            "894/894 [==============================] - 4s 4ms/step - loss: 0.2708 - accuracy: 0.8782\n",
            "Epoch 7/10\n",
            "894/894 [==============================] - 4s 4ms/step - loss: 0.2704 - accuracy: 0.8783\n",
            "Epoch 8/10\n",
            "894/894 [==============================] - 4s 4ms/step - loss: 0.2698 - accuracy: 0.8782\n",
            "Epoch 9/10\n",
            "894/894 [==============================] - 4s 4ms/step - loss: 0.2695 - accuracy: 0.8782\n",
            "Epoch 10/10\n",
            "894/894 [==============================] - 4s 4ms/step - loss: 0.2694 - accuracy: 0.8782\n",
            "Model: \"sequential_46\"\n",
            "_________________________________________________________________\n",
            "Layer (type)                 Output Shape              Param #   \n",
            "=================================================================\n",
            "lstm_46 (LSTM)               (None, 66)                20592     \n",
            "_________________________________________________________________\n",
            "dense_46 (Dense)             (None, 1)                 67        \n",
            "=================================================================\n",
            "Total params: 20,659\n",
            "Trainable params: 20,659\n",
            "Non-trainable params: 0\n",
            "_________________________________________________________________\n",
            "Epoch 1/10\n",
            "894/894 [==============================] - 4s 4ms/step - loss: 0.3067 - accuracy: 0.8780\n",
            "Epoch 2/10\n",
            "894/894 [==============================] - 4s 4ms/step - loss: 0.2742 - accuracy: 0.8780\n",
            "Epoch 3/10\n",
            "894/894 [==============================] - 4s 4ms/step - loss: 0.2728 - accuracy: 0.8781\n",
            "Epoch 4/10\n",
            "894/894 [==============================] - 4s 4ms/step - loss: 0.2721 - accuracy: 0.8782\n",
            "Epoch 5/10\n",
            "894/894 [==============================] - 4s 4ms/step - loss: 0.2715 - accuracy: 0.8782\n",
            "Epoch 6/10\n",
            "894/894 [==============================] - 3s 4ms/step - loss: 0.2708 - accuracy: 0.8782\n",
            "Epoch 7/10\n",
            "894/894 [==============================] - 3s 4ms/step - loss: 0.2704 - accuracy: 0.8783\n",
            "Epoch 8/10\n",
            "894/894 [==============================] - 4s 4ms/step - loss: 0.2698 - accuracy: 0.8784\n",
            "Epoch 9/10\n",
            "894/894 [==============================] - 4s 4ms/step - loss: 0.2698 - accuracy: 0.8781\n",
            "Epoch 10/10\n",
            "894/894 [==============================] - 4s 4ms/step - loss: 0.2698 - accuracy: 0.8782\n",
            "Model: \"sequential_47\"\n",
            "_________________________________________________________________\n",
            "Layer (type)                 Output Shape              Param #   \n",
            "=================================================================\n",
            "lstm_47 (LSTM)               (None, 66)                20592     \n",
            "_________________________________________________________________\n",
            "dense_47 (Dense)             (None, 1)                 67        \n",
            "=================================================================\n",
            "Total params: 20,659\n",
            "Trainable params: 20,659\n",
            "Non-trainable params: 0\n",
            "_________________________________________________________________\n",
            "Epoch 1/10\n",
            "894/894 [==============================] - 4s 4ms/step - loss: 0.3177 - accuracy: 0.8686\n",
            "Epoch 2/10\n",
            "894/894 [==============================] - 4s 4ms/step - loss: 0.2743 - accuracy: 0.8781\n",
            "Epoch 3/10\n",
            "894/894 [==============================] - 4s 4ms/step - loss: 0.2731 - accuracy: 0.8781\n",
            "Epoch 4/10\n",
            "894/894 [==============================] - 4s 4ms/step - loss: 0.2721 - accuracy: 0.8782\n",
            "Epoch 5/10\n",
            "894/894 [==============================] - 4s 4ms/step - loss: 0.2715 - accuracy: 0.8782\n",
            "Epoch 6/10\n",
            "894/894 [==============================] - 4s 4ms/step - loss: 0.2709 - accuracy: 0.8782\n",
            "Epoch 7/10\n",
            "894/894 [==============================] - 4s 4ms/step - loss: 0.2704 - accuracy: 0.8782\n",
            "Epoch 8/10\n",
            "894/894 [==============================] - 4s 4ms/step - loss: 0.2700 - accuracy: 0.8781\n",
            "Epoch 9/10\n",
            "894/894 [==============================] - 4s 4ms/step - loss: 0.2697 - accuracy: 0.8782\n",
            "Epoch 10/10\n",
            "894/894 [==============================] - 4s 4ms/step - loss: 0.2698 - accuracy: 0.8783\n"
          ],
          "name": "stdout"
        }
      ]
    },
    {
      "cell_type": "code",
      "metadata": {
        "colab": {
          "base_uri": "https://localhost:8080/",
          "height": 1000
        },
        "id": "d7HaloBvYSoM",
        "outputId": "b182a52c-e1d5-48d2-ae17-eff0e8cfe3d2"
      },
      "source": [
        "for i in range(0, len(dnn_pred_list)):\n",
        "  print('LSTM Layer loss function', loss_funcs[i], ':')\n",
        "  \n",
        "  temp_pred = [1 if x >= 0.5 else 0 for x in dnn_pred_list[i]]\n",
        "\n",
        "  print('Accuracy', accuracy_score(y_test, temp_pred)*100)\n",
        "  print('Precision', precision_score(y_test, temp_pred)*100)\n",
        "  print('Recall', recall_score(y_test, temp_pred)*100)\n",
        "  print('F1', f1_score(y_test, temp_pred)*100)\n",
        "  print('ROC AUC', roc_auc_score(y_test, temp_pred)*100)\n",
        "  cm = confusion_matrix(y_test, temp_pred, normalize='all')\n",
        "  ConfusionMatrixDisplay(cm, display_labels=['Not Interested', 'Interested']).plot()\n",
        "  plt.show()"
      ],
      "execution_count": null,
      "outputs": [
        {
          "output_type": "stream",
          "text": [
            "LSTM Layer loss function binary_crossentropy :\n",
            "Accuracy 87.62758783553305\n",
            "Precision 56.75675675675676\n",
            "Recall 0.11131135375808332\n",
            "F1 0.2221869544516743\n",
            "ROC AUC 50.0496666667127\n"
          ],
          "name": "stdout"
        },
        {
          "output_type": "display_data",
          "data": {
            "image/png": "[encoded data removed]",
            "text/plain": [
              "<Figure size 432x288 with 2 Axes>"
            ]
          },
          "metadata": {
            "tags": [],
            "needs_background": "light"
          }
        },
        {
          "output_type": "stream",
          "text": [
            "LSTM Layer loss function hinge :\n",
            "Accuracy 87.62955577129962\n",
            "Precision 56.25\n",
            "Recall 0.1908194635852857\n",
            "F1 0.3803486529318541\n",
            "ROC AUC 50.08492896400154\n"
          ],
          "name": "stdout"
        },
        {
          "output_type": "display_data",
          "data": {
            "image/png": "[encoded data removed]",
            "text/plain": [
              "<Figure size 432x288 with 2 Axes>"
            ]
          },
          "metadata": {
            "tags": [],
            "needs_background": "light"
          }
        },
        {
          "output_type": "stream",
          "text": [
            "LSTM Layer loss function squared_hinge :\n",
            "Accuracy 87.61906011387788\n",
            "Precision 49.47643979057592\n",
            "Recall 2.0036043676455\n",
            "F1 3.8512480896586863\n",
            "ROC AUC 50.85731731355969\n"
          ],
          "name": "stdout"
        },
        {
          "output_type": "display_data",
          "data": {
            "image/png": "[encoded data removed]",
            "text/plain": [
              "<Figure size 432x288 with 2 Axes>"
            ]
          },
          "metadata": {
            "tags": [],
            "needs_background": "light"
          }
        }
      ]
    }
  ]
}